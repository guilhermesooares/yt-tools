{
 "cells": [
  {
   "cell_type": "markdown",
   "metadata": {},
   "source": [
    "# Topic modeling with (CorEx)"
   ]
  },
  {
   "cell_type": "markdown",
   "metadata": {},
   "source": [
    "## Data handling"
   ]
  },
  {
   "cell_type": "markdown",
   "metadata": {},
   "source": [
    "### Load and clean subtitles text"
   ]
  },
  {
   "cell_type": "code",
   "execution_count": 1,
   "metadata": {},
   "outputs": [],
   "source": [
    "import glob\n",
    "import json\n",
    "import text\n",
    "\n",
    "files = glob.glob(\"../data/tratamento-precoce-top-200/subtitles-new/*\")\n",
    "\n",
    "subtitles = []\n",
    "\n",
    "for f in files[:50]:\n",
    "    with open(f) as file:\n",
    "        subtitle = json.loads(file.read())\n",
    "        subtitles.append(' '.join([str(text.clean(x[\"text\"])) for x in subtitle]))"
   ]
  },
  {
   "cell_type": "markdown",
   "metadata": {},
   "source": [
    "### Subtitle example"
   ]
  },
  {
   "cell_type": "code",
   "execution_count": 2,
   "metadata": {
    "scrolled": true
   },
   "outputs": [
    {
     "name": "stdout",
     "output_type": "stream",
     "text": [
      "assunt aqu vou vir assunt porqu audienc gost diss decadenc ness program vai busc temp assunt vir vam la ont ministr saud eduard pajuel mud tom sobr trat precoc contr coronaviru diss mudanc discurs mudanc tom pass inclusiv assum ministeri saud prim orientaca ofic sobr tal trat precoc hav ali uso medic hidroxicloroquin ver mectin enfim agor fal nao verdad nunc fal trat precoc diz sobr atend precoc vam ver senh fal atend precoc nao cit cloroquin govern vai segu nao fal senh nao voc fal nao fal senh vam ver teri nenhum vez nao so nao ouv fal nad diss atend precoc nao ouv fal nenhum remedi nao enta porqu diz to fal nao pergunt senh ministeri to ouv desculp nao produz questa senh fal atend precoc outr cole senh fal cloroquin nao troc maquin govern feder senh senh nunc viu nunc viu receit diz coloc pesso tom remedi nunc nao aceit posica enta palavr padro fic incomod ali pergunt report porqu fal enta sobr atend precoc nao sobr trat pra quest enta senh fal cloroquin outr medic fal nunc fal sobr so internet nao perdo cham ovari cham la sab fac lu algum moment fal sobr trat precoc peg liv particip presid jair bolsonar ond menin saud fal sobr trat precoc presid inclusiv recom ali algum medic vam ver trat precoc observaca toc voc ach fal sobr aqu fundament nao exist outr said sena diagnostic mo medic rap possi inici trat precoc rap possi salv vid evit pesso pior ir uti incentiv col maquin hidroxicloroquin anitt chin exist ha dec pessoal verm comum aceit bast comum paul trat atend mand consult medic atend porqu nao tav doi cient joel pinh fonsec atend trat ca terri extr mud ministr lad presid chef presid vai vend caix cloroquin ser cont ministr apoi aqu anel ministr pass radic compr oferec cloroquin ali sent lad gent precios part obvi govern feder presid republ ministeri saud empurr goel abaix populaca tal trat precoc envolv mont remedi cloroquin ver mectin azitromicin nao sei qual outr nenhum minim comprov ate diz acompanh ach import gent diss mil questa poli questa cientif fic otim gent qu remedi eficac la inici ano pass assim algum evidenc promis uso cloroquin estud subsequ feit feit enfraquec evidenc hoj dia parec cloroquin fat nao ter feit nenhum talv aind algum chanc ivermectin tamb algum result prelimin pod ser colh outr dia cidad itaj sant catarin adot trat precoc assim peg muit cidad favor plan govern feder peg trat precoc grand med contr coronaviru grand cidad sant catarin mai tax letal enta nao relaca caus efeit said gol parec nom orig nao esta desenvolv senh us convers tecn anvis inclusiv ont la jorn manh fal aind estagi prelimin certificaca assim tamb tod mund pesso bom vier funcion vai ser arm importantiss muit gent peg ant vacin sor excel nao contr remedi nenhum govern empurr gast dinh gast centen milho manau precis oxigeni bolsonar mand relaca bolsonar mand cloroquin alm salv sab enta assim govern empurr goel abaix trat exat ter comprovaca cientif tal trat precoc nao ver bolsonar vai ser nao precis preocup coronaviru aqu homeopat aqu voc tom fic tud bem crim nov bom elimin faz tav zo vou faz carg ate hoj acontec mandett nelson tal tir nao aceit assin bom vam la porqu nao evidenc padro ate hoj porqu aceit nao deix engan malic praz nao ok nunc calc lend complet fals polem govern tent enfi goel abaix brasil indic atend precoc medic pod recomend prescrev algum tip remedi poss aind nao prov cientif cabal poss ajud recuperaca paci prim moment sao vari remedi azitromicin bilhet anitt cloroquin nao exat eficienc comprov fatal fatal nao cabal pod event ajud inclusiv ajud outr doenc adjac sao provoc propr convit pneumon deput janain pascho fal aqu ness program melhor trat bio anticoagul dev trat profila dad medic algum form ajud efeit colater leo agor voc quer criminal criminal possibil trat precoc event pod ajud melh doenc diz crimin crimin voc tax crimin qualqu tip percepca ajud desenh post medic dev medic pod acert melhor efeit colater propr conviv nao ent polent quer tent lembr vacin ate vacin ano aprov ano tod vacin efeit colater norueg dezen idos esta suspeit ser bonit car fal assim ah car sao verd fic fic comov agor convit tamb afet sobretud velh comunidad tud feit nom combat oi ness ano pass aind test porqu cienc volt diz conjunt pot test long temp doenc nov nao fal uma cois nao so voc unic cois deix indign crimin voc indic trat preven sena efeit colater grav dess trat tud indic nao ha qualqu problem tent ajud pesso quer melhor context motor doent pod ser crimin vou deix clar cois qualqu govern aplic vacin ant aprovaca anvis govern medic est pres nest moment enta nao cois voc fac assim form lev nao nao ter later relev joel prim cobr tom coloc perd aqu nao bolsonar to medi abr inscrico pa calm deix poss fal bolsonar tom atropin fez exam cardiac just acompanh possi efeit colater sao propri bolsonar sab fez exam control efeit colater outr ning qu proib remedi medic particul nov test nao delic medic ach aceit total liberdad aqu tamb nao gent faz aqu enta delic apo termin gent fal aqu remedi torn protocol univers lev adiant promov ministeri vai fic mold govern podera oraca envi tamb conseg produz distribu recom abr long exist estoqu grand cloroquin nao apost cor opin viu nao promet nao func mand dos brasil gent estoqu gent desgast milho real distribu crim respons form pergunt voc voc recomend trat oi adriel adriel so minut agor paul nao ach efeit colater voc fal nao gent sab apur aind ter acompanh medic escrev hoj tent nao tent explic medic atend recomend cois assim fal exat nao pod ser poli govern pod ser pod ser prior distribu remedi nao comprovaca cientif ajud vi saud junt presid republ reit procur medic procur post saud tom remedi pod ser afer prescrit medic voc esta deturp tod questa nao esta distribu man goel abaix esta dand oportun recomendaca atrav auxili medic prescrica medic tom alg dos absolut nao ger efeit colater grav pesso direit trat rest man fiz previsa medic veterinari guanab sab mostr gent raza ate nelson tal mandett recus assin embaix dess protocol univers demit recomendaca azuel top vez curv mostr ministr subservi desej presid republ naquel epoc bolsonar aind oferec cloroquin emm ach real cur milagr irma voc lembr nao nad daquil agor esta med mud discurs ant cloroquin coloq cloroquin agor voc tir palavr cloroquin boc ministr vas remedi lut porqu sab bem fal nao dev enta tent agor der nao trat precoc nao sab nao pod ser trat ir medic recomend faz nao sab hor recomendaca recomendaca busc medic log prim sintom ja recomendaca epoc mandett assim nao nao nao fal nao nao mand prim sintom pior prim sintom mand ped fic cas ach fal procur medic fal val nao prim sintom voc nao pass nad so algum cas sao doenc troc medic nao ir hospit faz vide medicin fal virtual voc nao espalh carol brinc dess jeit igual bol la alt pedr perif fal assim to fal recomendaca err pes cabec hor falt agu sintom to faz prim sintom prim sintom mand fic cas pergunt porqu nao to respond car uma recomendaco boc recomendaca nao crimin nao recomendaca ach pod ser difer paci procur medic luz prim sintom pod ter chanc mai recus nao porqu vai folg coloq uso nov caus nao porqu vai pod faz chav la moment nao vai pod entend vai compromiss vai pod faz exam sang entend vam faz so deix bem clar mand nao recomend vam cham vam cham mand imovel ja fal diss abr gent sec\n"
     ]
    }
   ],
   "source": [
    "print(subtitles[0])"
   ]
  },
  {
   "cell_type": "markdown",
   "metadata": {},
   "source": [
    "## CorEx topic modeling"
   ]
  },
  {
   "cell_type": "code",
   "execution_count": 3,
   "metadata": {},
   "outputs": [],
   "source": [
    "import numpy as np\n",
    "from sklearn.feature_extraction.text import CountVectorizer"
   ]
  },
  {
   "cell_type": "code",
   "execution_count": 4,
   "metadata": {},
   "outputs": [],
   "source": [
    "vectorizer = CountVectorizer(binary=True)\n",
    "wordCount = vectorizer.fit_transform(subtitles)"
   ]
  },
  {
   "cell_type": "code",
   "execution_count": 5,
   "metadata": {},
   "outputs": [
    {
     "data": {
      "text/plain": [
       "(50, 5478)"
      ]
     },
     "execution_count": 5,
     "metadata": {},
     "output_type": "execute_result"
    }
   ],
   "source": [
    "# Get words that label the columns (needed to extract readable topics and make anchoring easier)\n",
    "words = list(np.asarray(vectorizer.get_feature_names()))\n",
    "\n",
    "wordCount.shape # n_docs x m_words"
   ]
  },
  {
   "cell_type": "markdown",
   "metadata": {},
   "source": [
    "### Train the CorEx topic"
   ]
  },
  {
   "cell_type": "code",
   "execution_count": 6,
   "metadata": {
    "tags": []
   },
   "outputs": [],
   "source": [
    "from corextopic import corextopic as ct\n",
    "NUM_TOPICS = 9\n",
    "\n",
    "topic_model = ct.Corex(n_hidden=NUM_TOPICS, words=words, max_iter=200, verbose=False, seed=1)\n",
    "topic_model.fit(wordCount, words=words);"
   ]
  },
  {
   "cell_type": "markdown",
   "metadata": {},
   "source": [
    "### Print all topics from the CorEx topic model"
   ]
  },
  {
   "cell_type": "code",
   "execution_count": 7,
   "metadata": {},
   "outputs": [
    {
     "name": "stdout",
     "output_type": "stream",
     "text": [
      "0: ea, nom, qu, simpl, fez, complic, oportun, pressa, toc, continu\n",
      "1: assum, parec, coloq, naquel, car, seil, ouv, tav, particul, trint\n",
      "2: tant, esquec, diferenc, pouc, sempr, dic, just, contat, mestr, acas\n",
      "3: facebook, tard, chat, projet, cal, menos, algu, sofr, int, ont\n",
      "4: pro, tre, feit, nov, set, grup, dorm, apes, quatr, nenhum\n",
      "5: possi, segu, diss, receb, mecan, evidenc, control, cas, fisic, posteri\n",
      "6: direca, jair, cont, participaca, avanc, uso, previsa, digit, horari, utilizaca\n",
      "7: sena, replicaca, econom, particip, pi, per, liberdad, alexandr, deput, ritm\n",
      "8: proteca, ignor, acrescent, quil, visa, decid, us, sex, marcel, conclu\n"
     ]
    }
   ],
   "source": [
    "topics = topic_model.get_topics()\n",
    "for n,topic in enumerate(topics):\n",
    "    topic_words,_,_ = zip(*topic)\n",
    "    print('{}: '.format(n) + ', '.join(topic_words))"
   ]
  },
  {
   "cell_type": "code",
   "execution_count": 8,
   "metadata": {},
   "outputs": [
    {
     "name": "stdout",
     "output_type": "stream",
     "text": [
      "[2 1 7 ... 2 3 4]\n",
      "(5478,)\n"
     ]
    }
   ],
   "source": [
    "# If we need to directly access the topic assignments for each word, they can be accessed through cluster.\n",
    "print(topic_model.clusters)\n",
    "print(topic_model.clusters.shape) # m_words"
   ]
  },
  {
   "cell_type": "code",
   "execution_count": 9,
   "metadata": {},
   "outputs": [
    {
     "name": "stdout",
     "output_type": "stream",
     "text": [
      "NOTE: 'docs' not provided to CorEx. Returning top docs as lists of row indices\n"
     ]
    },
    {
     "data": {
      "text/plain": [
       "[(0, 0.0),\n",
       " (41, 0.0),\n",
       " (36, 0.0),\n",
       " (28, 0.0),\n",
       " (27, 0.0),\n",
       " (23, 0.0),\n",
       " (19, 0.0),\n",
       " (17, 0.0),\n",
       " (14, 0.0),\n",
       " (10, 0.0)]"
      ]
     },
     "execution_count": 9,
     "metadata": {},
     "output_type": "execute_result"
    }
   ],
   "source": [
    "# Print a single topic from CorEx topic model\n",
    "topic_model.get_top_docs(topic=0, n_docs=10, sort_by='log_prob')"
   ]
  },
  {
   "cell_type": "code",
   "execution_count": 10,
   "metadata": {},
   "outputs": [
    {
     "name": "stdout",
     "output_type": "stream",
     "text": [
      "(50, 9)\n"
     ]
    }
   ],
   "source": [
    "print(topic_model.p_y_given_x.shape) # n_docs x k_topics"
   ]
  },
  {
   "cell_type": "code",
   "execution_count": 11,
   "metadata": {},
   "outputs": [
    {
     "name": "stdout",
     "output_type": "stream",
     "text": [
      "(50, 9)\n"
     ]
    }
   ],
   "source": [
    "print(topic_model.labels.shape) # n_docs x k_topics"
   ]
  },
  {
   "cell_type": "code",
   "execution_count": 12,
   "metadata": {},
   "outputs": [
    {
     "data": {
      "image/png": "[encoded data removed]",
      "text/plain": [
       "<Figure size 720x360 with 1 Axes>"
      ]
     },
     "metadata": {
      "needs_background": "light"
     },
     "output_type": "display_data"
    }
   ],
   "source": [
    "import matplotlib.pyplot as plt\n",
    "\n",
    "plt.figure(figsize=(10,5))\n",
    "plt.bar(range(topic_model.tcs.shape[0]), topic_model.tcs, color='#4e79a7', width=0.5)\n",
    "plt.xlabel('Topic', fontsize=16)\n",
    "plt.ylabel('Total Correlation (nats)', fontsize=16);"
   ]
  },
  {
   "cell_type": "code",
   "execution_count": 13,
   "metadata": {},
   "outputs": [
    {
     "data": {
      "text/plain": [
       "331.1353781859524"
      ]
     },
     "execution_count": 13,
     "metadata": {},
     "output_type": "execute_result"
    }
   ],
   "source": [
    "topic_model.tc"
   ]
  }
 ],
 "metadata": {
  "kernelspec": {
   "display_name": "corexEnv",
   "language": "python",
   "name": "corexenv"
  },
  "language_info": {
   "codemirror_mode": {
    "name": "ipython",
    "version": 3
   },
   "file_extension": ".py",
   "mimetype": "text/x-python",
   "name": "python",
   "nbconvert_exporter": "python",
   "pygments_lexer": "ipython3",
   "version": "3.8.5"
  },
  "metadata": {
   "interpreter": {
    "hash": "767d51c1340bd893661ea55ea3124f6de3c7a262a8b4abca0554b478b1e2ff90"
   }
  }
 },
 "nbformat": 4,
 "nbformat_minor": 2
}
