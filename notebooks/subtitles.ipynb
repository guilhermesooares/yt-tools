{
 "cells": [
  {
   "cell_type": "markdown",
   "metadata": {},
   "source": [
    "# Topic modeling with (CorEx)"
   ]
  },
  {
   "cell_type": "markdown",
   "metadata": {},
   "source": [
    "## Data handling"
   ]
  },
  {
   "cell_type": "markdown",
   "metadata": {},
   "source": [
    "### Load and clean subtitles text"
   ]
  },
  {
   "cell_type": "code",
   "execution_count": 17,
   "metadata": {},
   "outputs": [],
   "source": [
    "import glob\n",
    "import json\n",
    "import text\n",
    "\n",
    "data_path = \"../data/tratamento-precoce-top-200/\"\n",
    "\n",
    "data = [file.split(\"/\")[-1] for file in glob.glob(\"../data/tratamento-precoce-top-200/subtitles-new/*\") ]\n",
    "\n",
    "subtitles = []\n",
    "videos = []\n",
    "\n",
    "for f in data:\n",
    "    with open(data_path + \"videos/\" + f + \".json\") as file:\n",
    "        video = json.loads(file.read())\n",
    "        videos.append(video)\n",
    "        \n",
    "    with open(data_path + \"subtitles-new/\" + f) as file:\n",
    "        subtitle = json.loads(file.read())\n",
    "        subtitles.append(' '.join([str(text.clean(x[\"text\"])) for x in subtitle]))"
   ]
  },
  {
   "cell_type": "markdown",
   "metadata": {},
   "source": [
    "### Subtitle example"
   ]
  },
  {
   "cell_type": "code",
   "execution_count": 18,
   "metadata": {
    "scrolled": true
   },
   "outputs": [
    {
     "name": "stdout",
     "output_type": "stream",
     "text": [
      "assunto aqui vou virar assunto porque audiencia gosta disso decadencia nesse programa vai buscar tempo assunto vire vamos la ontem ministro saude eduardo pajuelo mudou tom sobre tratamento precoce contra coronavirus disse mudanca discurso mudanca tom passo inclusive assumiu ministerio saude primeira orientacao oficial sobre tal tratamento precoce havia ali uso medicamentos hidroxicloroquina ver mectina enfim agora fala nao verdade nunca falou tratamento precoce dizia sobre atendimento precoce vamos ver senhor falou atendimento precoce nao citou cloroquina governo vai seguir nao falei senhora nao voce falou nao falei senhora vamos ver teriamos nenhuma vez nao so nao ouviu falar nada disso atendimento precoce nao ouviu falar nenhum remedio nao entao porque dizendo to falando nao perguntando senhor ministerio to ouvindo desculpa nao produzindo questao senhor falou atendimento precoce outras coletivas senhor falava cloroquina nao troca maquina governo federal senhora senhora nunca viu nunca viu receitar dizer colocar pessoas tomarem remedio nunca nao aceita posicao entao palavra padroeiro ficou incomodado ali pergunta reporter porque fala entao sobre atendimento precoce nao sobre tratamento pra questionar entao senhor falava cloroquina outros medicamentos fala nunca falou sobre so internet nao perdoa chamar ovario chamaram la saber faco lu algum momento falou sobre tratamento precoce pegar live participou presidente jair bolsonaro onde meninas saude fala sobre tratamento precoce presidente inclusive recomendo ali alguns medicamentos vamos ver tratamento precoce observacao tocante voce acha falar sobre aqui fundamental nao existe outra saida senao diagnosticar mos medico rapido possivel iniciar tratamento precoce rapido possivel salva vidas evita pessoas piorem ir uti incentivados cola maquina hidroxicloroquina anitta china existe ha decadas pessoal verme comum aceitar bastante comum paulo tratamento atendimento mandou consultar medico atendimento porque nao tava dois cientistas joel pinheiro fonseca atendimento tratamento ca terrivel extra muda ministro lado presidente chefe presidente vai vendendo caixinha cloroquina sera conta ministro apoiando aqui anel ministro passou radicalmente compra oferecer cloroquina ali sentado lado gente preciosismos parte obvio governo federal presidente republica ministerio saude empurrado goela abaixo populacao tal tratamento precoce envolve monte remedios cloroquina ver mectina azitromicina nao sei quais outros nenhum minimamente comprovado ate dizer acompanho acho importante gente disse mil questao politica questao cientifica ficasse otimo gente quer remedios eficacia la inicio ano passado assim algumas evidencias promissoras uso cloroquina estudos subsequentes feitas feitos enfraquecendo evidencias hoje dia parece cloroquina fato nao ter feito nenhum talvez ainda alguma chance ivermectina tambem alguns resultados preliminares pode ser colher outro dia cidade itajai santa catarina adotou tratamento precoce assim pegou muita cidade favor planos governo federal pegar tratamento precoces grande medida contra coronavirus grandes cidades santa catarina maior taxa letalidade entao nao relacao causa efeito saida goleiro parece nome origem nao estao desenvolvendo senhor us conversei tecnico anvisa inclusive ontem la jornal manha falou ainda estagio preliminar certificacao assim tambem todo mundo pessoas bom vierem funcionar vai ser arma importantissimo muita gente pega antes vacinar soro excelente nao contra remedio nenhum governo empurrando gastando dinheiro gastando centenas milhoes manaus precisava oxigenio bolsonaro mandou relacao bolsonaro mandou cloroquina alma salvo sabor entao assim governo empurrando goela abaixo tratamento exatamente ter comprovacao cientifica tal tratamento precoce nao ver bolsonaro vai ser nao precisa preocupar coronavirus aqui homeopatia aqui voces tomam fica tudo bem crime novo bom eliminou faz tava zoando vou fazendo cargo ate hoje aconteceu mandetta nelson tais tirados nao aceitaram assinar bom vamos la porque nao evidencias padroeiro ate hoje porque aceitou nao deixe enganar malicia prazo nao ok nunca calca lendo completa falsa polemica governo tentando enfiar goela abaixo brasileiro indicando atendimento precoce medico pode recomendar prescrever algum tipo remedio possa ainda nao prova cientifica cabal posso ajudar recuperacao paciente primeiro momento sao varios remedio azitromicina bilhetinho anitta cloroquina nao exatamente eficiencia comprovada fatal fatal nao cabal podem eventualmente ajudar inclusive ajudar outras doencas adjacente sao provocadas propria convite pneumonia deputada janaina paschoal falou aqui nesse programa melhor tratada bioticos anticoagulantes devido tratamento profilatico dado medico alguma forma ajudou efeitos colaterais leo agora voce querer criminalizar criminalizar possibilidade tratamento precoce eventualmente pode ajudar melhoria doenca dizer criminoso criminoso voce taxar criminoso qualquer tipo percepcao ajuda desenho posto medico devido medico pode acertar melhorar efeitos colaterais propria convive nao entendo polenta querendo tentar lembrar vacina ate vacina ano aprovado ano todas vacinas efeitos colaterais noruega dezenas idosos estao suspeita serem bonito caras falam assim ah caras sao verdes ficaram ficou comovido agora convite tambem afeta sobretudo velho comunidade tudo feito nome combate oi nesse ano passou ainda teste porque ciencia volta dizer conjunto potes testados longo tempo doenca nova nao falar umas coisas nao so voce unica coisa deixa indignado criminoso voce indicar tratamento preventivo senao efeito colateral grave desses tratamento tudo indica nao ha qualquer problema tentar ajudar pessoa querendo melhorar contexto motor doente pode ser criminoso vou deixar claro coisa qualquer governo aplicado vacina antes aprovacao anvisa governador medico estariam presos neste momento entao nao coisa voce faca assim forma leve nao nao terem lateral relevo joel primeiro cobre tomar colocar perdendo aqui nao bolsonaro to medio abre inscricoes pa calma deixa posso falar bolsonaro tomou atropina fez exames cardiacos justamente acompanhar possiveis efeitos colaterais sao proprio bolsonaro sabe fez exames controlar efeitos colaterais outra ninguem quer proibir remedios medico particular novo testamento nao delicia medico acha aceitar total liberdade aqui tambem nao gente fazendo aqui entao delicia apos terminar gente falando aqui remedio torna protocolo universal levado adiante promovido ministerio vai ficar moldura governo poderao oracao enviando tambem consegue produziu distribuiu recomendo abrir longe existe estoque grande cloroquina nao apostou cor opina viu nao promete nao funciona mandou doses brasil gente estoque gente desgastada milhoes reais distribuir crime responsabilidade forma perguntei voce voce recomendar tratamento oi adriele adriele so minuto agora paulinha nao acho efeito colateral voce fala nao gente sabe apurou ainda ter acompanhamento medico escrevi hoje tentando nao tentei explicar medico atendimento recomendar coisa assim falou exatamente nao pode ser politica governo pode ser pode ser prioridade distribuir remedio nao comprovacao cientifica ajudar vizinho saude juntamente presidente republica reitera procure medico procure posto saude tome remedios podem ser aferidos prescritos medico voces estao deturpando toda questao nao estao distribuidos maneira goela abaixo estao dando oportunidade recomendacao atraves auxilio medico prescricao medico tomar algo doses absolutamente nao geram efeitos colaterais graves pessoa direito tratar resto maneira fizeram previsao medico veterinario guanabara sabe mostra gente razao ate nelson tais mandetta recusaram assinar embaixo desse protocolo universal demitidas recomendacao azuelo topo vezes curvou mostrou ministro subserviente desejos presidente republica naquela epoca bolsonaro ainda oferecera cloroquina emma achava realmente cura milagrosa irmao voce lembrou nao nada daquilo agora estao medo mudou discurso antes cloroquina coloquei cloroquina agora voce tirar palavra cloroquina boca ministro vaso remedio luta porque sabem bem falaram nao devia entao tentando agora der nao tratamento precoce nao sabe nao pode ser tratamento ir medico recomendado fazer nao sabe horas recomendacao recomendacao buscar medico logo primeiros sintomas ja recomendacao epoca mandetta assim nao nao nao falou nao nao mandou primeiros sintomas piorou primeira sintomas mandei pedir ficar casa acho fala procurar medico falou valor nao primeiros sintomas voce nao passa nada so alguns casos sao doenca troco medico nao ir hospital fazer video medicina falar virtualmente voce nao espalhar carol brincadeira desse jeito igual bola la alto pedra periferia falou assim to falando recomendacao erro peso cabeca hora falta agua sintomas to fazendo primeiros sintomas primeiros sintomas mandou ficar casa perguntando porque nao to respondendo cara umas recomendacoes boca recomendacao nao criminosa nao recomendacao acho pode ser diferencial paciente procurando medico luz primeiros sintomas pode ter chance maior recusar nao porque vai folgar coloquei uso novo causa nao porque vai poder fazer chave la momento nao vai poder entender vai compromisso vai poder fazer exames sangue entender vamos fazer so deixar bem claro mandei nao recomendou vamos chamar vamos chamar mandei imovel ja falamos disso abrir gente seca\n"
     ]
    }
   ],
   "source": [
    "print(subtitles[0])"
   ]
  },
  {
   "cell_type": "markdown",
   "metadata": {},
   "source": [
    "## CorEx topic modeling"
   ]
  },
  {
   "cell_type": "code",
   "execution_count": 19,
   "metadata": {},
   "outputs": [],
   "source": [
    "import numpy as np\n",
    "from sklearn.feature_extraction.text import CountVectorizer"
   ]
  },
  {
   "cell_type": "code",
   "execution_count": 20,
   "metadata": {},
   "outputs": [],
   "source": [
    "vectorizer = CountVectorizer(binary=True)\n",
    "wordCount = vectorizer.fit_transform(subtitles)"
   ]
  },
  {
   "cell_type": "code",
   "execution_count": 21,
   "metadata": {},
   "outputs": [
    {
     "data": {
      "text/plain": [
       "(421, 31813)"
      ]
     },
     "execution_count": 21,
     "metadata": {},
     "output_type": "execute_result"
    }
   ],
   "source": [
    "# Get words that label the columns (needed to extract readable topics and make anchoring easier)\n",
    "words = list(np.asarray(vectorizer.get_feature_names()))\n",
    "\n",
    "wordCount.shape # n_docs x m_words"
   ]
  },
  {
   "cell_type": "markdown",
   "metadata": {},
   "source": [
    "### Train the CorEx topic"
   ]
  },
  {
   "cell_type": "code",
   "execution_count": 22,
   "metadata": {
    "tags": []
   },
   "outputs": [],
   "source": [
    "from corextopic import corextopic as ct\n",
    "NUM_TOPICS = 7\n",
    "\n",
    "topic_model = ct.Corex(n_hidden=NUM_TOPICS, words=words, max_iter=200, docs= docs, verbose=False, seed=1)\n",
    "topic_model.fit(wordCount, words=words);"
   ]
  },
  {
   "cell_type": "markdown",
   "metadata": {},
   "source": [
    "### Print all topics from the CorEx topic model"
   ]
  },
  {
   "cell_type": "code",
   "execution_count": 23,
   "metadata": {},
   "outputs": [
    {
     "name": "stdout",
     "output_type": "stream",
     "text": [
      "0: tanto, chama, parece, final, fez, dai, lado, algo, volta, diferente\n",
      "1: sobre, adianta, engano, chegando, mostrou, politica, povo, querendo, exame, feitos\n",
      "2: correndo, movimento, valores, ultimos, diversas, informar, politicas, colocamos, estagio, passada\n",
      "3: slide, india, lotadas, redor, quadras, comunicantes, moradores, escolhemos, notamos, cox2\n",
      "4: prevent, senior, natal, alcool, idoso, ma, noticias, bacteria, instagram, parana\n",
      "5: reuniram, embasamento, tranquila, normalidade, havendo, organismos, acordou, anticoagulantes, inflamada, inflamados\n",
      "6: atualizacoes, rondonia, apoiamos, cascavel, mudamos, continuam, helsinque, up, facilita, lembrou\n"
     ]
    }
   ],
   "source": [
    "topics = topic_model.get_topics()\n",
    "for n,topic in enumerate(topics):\n",
    "    topic_words,_,_ = zip(*topic)\n",
    "    print('{}: '.format(n) + ', '.join(topic_words))"
   ]
  },
  {
   "cell_type": "markdown",
   "metadata": {},
   "source": [
    "### Most probable documents for each topic"
   ]
  },
  {
   "cell_type": "code",
   "execution_count": 25,
   "metadata": {},
   "outputs": [
    {
     "name": "stdout",
     "output_type": "stream",
     "text": [
      "NOTE: 'docs' not provided to CorEx. Returning top docs as lists of row indices\n",
      "1: HgVNnxl56w8,lbAgqXiXMSc,g4rAXK7Zeow,BHKy1HuZmNc,xRjIktVTBlg,zMnwnB8-ajg,3W9xsg8TaZw,ZzpuJmyrs4c,hdlYkORhNtY,50ZJXm_xRMg\n",
      "2: YsK2bT68aMs,m0kqP1ZDgTY,8Iac5Oml3_E,jexdogpfCB0,KR1ThJvT0Bs,g4rAXK7Zeow,7OxXv-OSneM,G7vpEbDSRz8,xRjIktVTBlg,EIYls5AjjKQ\n",
      "3: YsK2bT68aMs,7OxXv-OSneM,hjTzs4HT5b8,277cgQD1Q1Q,GRcka5x_0hE,DEDNnhWE0rw,FGxrM7tz2uE,jexdogpfCB0,VWHGfH369UA,g4rAXK7Zeow\n",
      "4: wh7wSUSWP5w,dS5_46XPzt8,dJENCtV2omU,A-enasyr5AI,U_p5eJnA5T0,e7zaBPkoQtQ,zFL4Z_IGcIQ,5OzQ0EIK0GI,3ibJcA7YQU8,juZO0G3BbP4\n",
      "5: ISKGdqtpkc0,ErMK-3J941k,ZnEpyvswaEA,XiCGR1DriuM,ghATN0GAfNs,lFJbfYfnIu4,mygyAhJjhws,UpNMaSKA1Vs,ZxH2GOuConU,xRjIktVTBlg\n",
      "6: YsK2bT68aMs,QnThbkX6Beg,mnMYWpJ2UYk,sHXVxIjQC1U,L8eT4r7XQyM,oGRtnIh8gNo,ZrLk9-CoS28,ySMRAfaCK48,dQ9ifypWVDY,Tv8rkgrIy_Y\n",
      "7: re_5e4bnVw4,mnMYWpJ2UYk,Ut8dfo8iYM4,vR7wJYnk2r4,XaQsGNhKjr0,2_22Y3_WXqc,o_g7zbjTBIM,fX3HICUMYps,DNjY3VBFWfg,BHKy1HuZmNc\n"
     ]
    }
   ],
   "source": [
    "top_docs = topic_model.get_top_docs()\n",
    "for topic_n, topic_docs in enumerate(top_docs):\n",
    "    docs,probs = zip(*topic_docs)\n",
    "    topic_str = str(topic_n + 1) + ': '+ ','.join(data[x] for x in docs)\n",
    "    print(topic_str)"
   ]
  },
  {
   "cell_type": "code",
   "execution_count": 27,
   "metadata": {},
   "outputs": [
    {
     "name": "stdout",
     "output_type": "stream",
     "text": [
      "1: L2fqpq-1eTQ,ghATN0GAfNs,vr0XfpFMwPA,Z0YbPRxE6I4,C1x0gcSiuq0,VBV13ia-Huo,eSvApB1KsVk\n",
      "2: sHXVxIjQC1U,-Wp4fDNgbB8,RMEzSNi8Zeo,gO9P387kxaU,X-gG8jZ2kIY,BHKy1HuZmNc,6pyXrrVVEAc\n",
      "3: dS5_46XPzt8,euoDeIMnZR4,Gp4AkNhNXJs,3ibJcA7YQU8,G7vpEbDSRz8,XaQsGNhKjr0,JejilTrrRp8\n",
      "4: dJENCtV2omU,L8eT4r7XQyM,-Wp4fDNgbB8,fS-qB74rwOs,cQkihVMzRx0,Tv8rkgrIy_Y,GWrOzPWPzac\n",
      "5: jMU_9Ykdr_k,YsK2bT68aMs,YsK2bT68aMs,wh7wSUSWP5w,e6kHpDzI6tU,YsK2bT68aMs,4llQ_4d2HhU\n"
     ]
    }
   ],
   "source": [
    "topic_model.predict_proba(wordCount)\n",
    "P, _ = topic_model.predict_proba(wordCount)\n",
    "\n",
    "\n",
    "P.argmax(axis=1)\n",
    "p = np.argpartition(P, -5, axis=0)[-5:]\n",
    "\n",
    "i= 0\n",
    "\n",
    "for topic in p:\n",
    "    topic_str = str(i + 1) + ': '+ ','.join(data[x] for x in topic)\n",
    "    i = i+1\n",
    "    print(topic_str)"
   ]
  },
  {
   "cell_type": "code",
   "execution_count": 28,
   "metadata": {},
   "outputs": [
    {
     "name": "stdout",
     "output_type": "stream",
     "text": [
      "[0 1 0 ... 0 0 6]\n",
      "(31813,)\n"
     ]
    }
   ],
   "source": [
    "# If we need to directly access the topic assignments for each word, they can be accessed through cluster.\n",
    "print(topic_model.clusters)\n",
    "print(topic_model.clusters.shape) # m_words"
   ]
  },
  {
   "cell_type": "code",
   "execution_count": 29,
   "metadata": {},
   "outputs": [
    {
     "name": "stdout",
     "output_type": "stream",
     "text": [
      "(421, 7)\n"
     ]
    }
   ],
   "source": [
    "print(topic_model.p_y_given_x.shape) # n_docs x k_topics"
   ]
  },
  {
   "cell_type": "code",
   "execution_count": 30,
   "metadata": {},
   "outputs": [
    {
     "name": "stdout",
     "output_type": "stream",
     "text": [
      "(421, 7)\n"
     ]
    }
   ],
   "source": [
    "print(topic_model.labels.shape) # n_docs x k_topics"
   ]
  },
  {
   "cell_type": "code",
   "execution_count": 31,
   "metadata": {
    "scrolled": true
   },
   "outputs": [
    {
     "data": {
      "image/png": "[encoded data removed]",
      "text/plain": [
       "<Figure size 720x360 with 1 Axes>"
      ]
     },
     "metadata": {
      "needs_background": "light"
     },
     "output_type": "display_data"
    }
   ],
   "source": [
    "import matplotlib.pyplot as plt\n",
    "\n",
    "plt.figure(figsize=(10,5))\n",
    "plt.bar(range(topic_model.tcs.shape[0]), topic_model.tcs, color='#4e79a7', width=0.5)\n",
    "plt.xlabel('Topic', fontsize=16)\n",
    "plt.ylabel('Total Correlation (nats)', fontsize=16);"
   ]
  },
  {
   "cell_type": "code",
   "execution_count": 33,
   "metadata": {},
   "outputs": [
    {
     "data": {
      "text/plain": [
       "424.01833139725136"
      ]
     },
     "execution_count": 33,
     "metadata": {},
     "output_type": "execute_result"
    }
   ],
   "source": [
    "topic_model.tc"
   ]
  },
  {
   "cell_type": "markdown",
   "metadata": {},
   "source": [
    "## Analysis by topic"
   ]
  },
  {
   "cell_type": "markdown",
   "metadata": {},
   "source": [
    "### Reading video json"
   ]
  },
  {
   "cell_type": "code",
   "execution_count": 40,
   "metadata": {},
   "outputs": [],
   "source": [
    "import pandas as pd\n",
    "df = pd.DataFrame(videos)"
   ]
  },
  {
   "cell_type": "code",
   "execution_count": null,
   "metadata": {},
   "outputs": [],
   "source": [
    "for topic_n, topic_docs in enumerate(top_docs):\n",
    "    docs,probs = zip(*topic_docs)\n",
    "    topic_str = str(topic_n + 1) + ': '+ ','.join(files[x].split(\"/\")[-1] for x in docs)\n",
    "    print(topic_str)"
   ]
  },
  {
   "cell_type": "code",
   "execution_count": 136,
   "metadata": {},
   "outputs": [
    {
     "name": "stdout",
     "output_type": "stream",
     "text": [
      "[ 2.79861406e+00  5.56577733e-01  3.10680846e-01 -9.28882636e-01\n",
      "  9.22411948e-01  2.95568396e-01  2.07652863e+00  9.48734327e-02\n",
      " -1.26255920e+00 -1.64000824e+00 -6.05035000e-01  1.97206147e-01\n",
      " -2.49030124e-01 -7.34269949e-02  8.73641162e-01  5.39405194e-01\n",
      " -2.47456709e-01 -1.49242290e+00  3.05704013e-03 -3.69403640e-01\n",
      " -7.84393104e-02 -1.35224060e+00  1.40160282e+00 -3.49348485e-01\n",
      "  1.23612582e+00  2.47057490e-01 -1.06502303e-01  2.86136583e-01\n",
      " -8.39452165e-02 -1.63984345e+00  7.47821691e-01  6.81935992e-01\n",
      " -1.94770844e+00 -4.76038547e-02  1.21919407e+00  1.45869409e+00\n",
      "  4.07985034e-01  1.81570824e+00  8.51486809e-01 -3.41094524e-01\n",
      " -9.87356756e-01 -5.98585196e-02  9.72100267e-03 -4.14959770e-01\n",
      "  9.51320538e-01  9.47307201e-01  2.24927833e-01  2.44009543e-01\n",
      "  1.04663677e-01  1.01216492e+00 -2.25975956e+00  9.98032550e-01\n",
      "  7.21317507e-01 -1.36788740e+00  5.49275362e-01  2.73793924e+00\n",
      "  6.08421241e-01 -5.76136388e-01  1.16418665e+00  1.34979399e-01\n",
      "  5.27587506e-01 -4.22188764e-01 -1.30841120e+00 -7.66498592e-01\n",
      "  1.46304518e-01  9.36394226e-01 -9.87373535e-01  3.52376111e-02\n",
      " -1.18683335e+00 -3.69998391e-02 -5.31974032e-02  5.73863504e-01\n",
      " -1.45319496e+00 -7.44731136e-01 -2.21044899e-01 -5.99479936e-01\n",
      "  4.34659385e-01  1.74209596e+00 -1.04701365e+00 -1.62371099e+00\n",
      "  6.41149328e-01  3.54333004e-01 -2.06440985e-01  5.98921453e-02\n",
      "  5.77874927e-01  6.81770815e-01 -4.47990328e-01  4.31847667e-01\n",
      " -1.17168848e-01  1.16797927e+00  9.37201418e-04  1.22089178e+00\n",
      "  1.04632761e+00 -2.44248134e-01 -8.24688453e-01 -2.15215880e+00\n",
      "  3.32239820e-01 -8.98116648e-02  3.96907902e-01 -7.23175828e-01\n",
      "  2.11152441e+00  8.68962919e-01  4.47773224e-01 -3.76874554e-01\n",
      " -5.58220803e-01  2.38455259e-01 -4.51397407e-01 -2.79570729e-01\n",
      " -5.44931177e-01 -1.67412757e+00  2.38694086e-01  4.54433081e-01\n",
      " -6.81824163e-01  2.86528341e-01  1.28012007e+00  3.61941284e-01\n",
      "  2.86614908e+00  2.72398777e-03 -5.92066485e-01 -1.16601544e-01\n",
      "  1.75090551e-01  1.33656597e+00 -9.03226098e-01 -2.17212943e+00\n",
      " -1.76019693e+00  8.39380713e-01 -4.08493660e-01  1.57092544e+00\n",
      " -1.96707837e-02 -2.32353254e-01  1.34714591e+00 -5.47757801e-01\n",
      "  1.95556811e+00 -1.22570744e+00 -3.93952330e-01 -3.16860031e+00\n",
      "  7.83544861e-01 -2.23182237e-01 -1.13867244e-01  4.65880357e-01\n",
      "  6.37602364e-01 -5.72659979e-01  7.37495370e-01  1.56048286e+00\n",
      "  7.87483841e-01  7.76669733e-01  1.37786182e+00  3.88675625e-01\n",
      "  4.24882559e-02 -8.65044009e-02  6.69193908e-01 -6.61370586e-01\n",
      "  4.81484585e-01 -1.59589589e-01 -5.46947512e-01  1.20191243e+00\n",
      " -2.25375197e+00 -7.45700012e-01 -8.41612094e-01 -7.56627904e-02\n",
      "  6.70597721e-01 -4.98177190e-01 -1.08078429e+00 -2.31369552e+00\n",
      " -1.84053957e-01  6.35069881e-01  3.44580212e-01 -4.99748500e-01\n",
      "  2.46683737e-01  4.91707778e-01  1.23577207e+00  1.21450118e+00\n",
      " -6.14275523e-02  6.73057406e-01  9.29324924e-01 -1.14854961e-01\n",
      "  1.70981983e-01  1.94363905e-01  8.55626247e-01 -9.11126375e-01\n",
      "  5.54726977e-01  9.24798302e-01  4.26902281e-01  3.40970518e+00\n",
      "  4.24307147e-01 -1.99915230e+00 -6.74759594e-01 -9.02796851e-01\n",
      " -3.50785734e-01 -9.66323132e-01 -1.39211684e+00  2.80957940e-01\n",
      "  8.82692719e-01 -2.83223098e-01 -1.04286847e+00 -1.55990493e+00\n",
      " -6.71378516e-01  1.24480048e-01 -2.82074177e-01 -1.39469473e+00\n",
      "  9.55841283e-01  1.13186033e+00 -5.10208131e-01  4.34644743e-01\n",
      " -7.18113192e-01  2.55859143e+00 -4.91258136e-01 -4.28692010e-01\n",
      "  1.13395480e-01 -1.70902004e+00  2.98710866e-01  1.52421959e+00\n",
      "  4.06520132e-01  1.12935881e+00 -5.83336128e-01 -4.81450502e-01\n",
      " -1.68173326e+00  1.49059370e-01  1.43054832e+00 -2.60678387e-01\n",
      " -4.34548133e-01 -1.68401240e+00  1.25719375e+00  4.21729271e-02\n",
      " -3.90098892e-01  2.31820331e+00 -4.65901386e-01  1.48796709e-01\n",
      "  5.26913398e-01 -1.75665867e+00  5.57783882e-01 -1.19697086e-02\n",
      " -9.29758548e-01  8.25919607e-01 -1.31610974e+00  1.92676529e-01\n",
      " -8.37628307e-01 -7.47655318e-01 -2.45319513e+00 -2.84420416e-01\n",
      " -3.87607151e-01 -6.35028018e-01  7.75052968e-01 -1.33792299e+00\n",
      " -1.45559549e+00 -4.71544831e-01 -2.43088572e-01  3.69166679e-01\n",
      "  1.53438403e-01  9.65516243e-01  2.48223298e-01  4.07915097e-01\n",
      "  5.01798020e-01  1.70196594e-01 -3.77718842e-01 -2.27489426e-01\n",
      " -7.09997029e-01  7.38604671e-01  1.39269125e-01 -9.27068040e-01\n",
      " -2.69861762e-01 -1.71028310e+00 -5.04303782e-01  3.66889798e-01\n",
      " -1.57553611e+00 -9.80363147e-01 -1.46419553e-01 -1.54142130e+00\n",
      "  1.52307041e+00 -9.85552129e-01  1.32033192e-01  1.71667396e+00\n",
      " -8.75878553e-01  4.69698078e-01  2.18651771e-01  7.45881828e-01\n",
      " -1.13716430e+00 -8.36638649e-01  2.22260483e-01  1.02739831e+00\n",
      "  5.20206834e-01 -1.17653668e+00 -9.32771696e-01  6.77910183e-01\n",
      " -1.04238343e+00 -1.20966616e+00  1.02978471e+00  1.03667828e+00\n",
      " -1.12639743e-01  3.28149549e-01  6.02962866e-01 -1.60857274e+00\n",
      " -8.79452597e-01  1.19099569e+00  4.80472417e-01  1.51590550e+00\n",
      "  6.58921457e-01 -9.12291978e-01 -1.25213284e+00 -7.09382221e-01\n",
      "  1.32263361e+00  1.25405395e+00  4.07808663e-01  1.06321215e+00\n",
      " -4.36389061e-01  8.20383395e-01 -1.43557254e-01  1.19434302e+00\n",
      "  1.24758536e+00  1.72341182e+00 -8.10890963e-01  5.16842122e-01\n",
      " -6.88016866e-01  6.72846165e-01 -5.77595168e-01 -2.04810084e+00\n",
      "  2.44304620e-01 -4.38439838e-01 -5.97212972e-01  9.06207030e-02\n",
      " -1.36667461e+00 -1.70513696e+00  6.49053393e-01  3.01301071e-01\n",
      "  1.78499949e+00 -1.00570764e+00 -5.35019522e-01 -1.01050198e+00\n",
      "  1.19568307e-01  3.00436751e+00 -1.34865500e+00  1.72369732e-01\n",
      "  6.35060364e-01  1.49142580e+00 -8.97600849e-01 -2.06621407e+00\n",
      " -4.44783621e-01  1.16351510e+00  1.07059181e-01 -8.42085256e-01\n",
      " -2.30004909e+00  6.35382909e-01  8.27255589e-01 -2.22720521e+00\n",
      " -9.30290313e-01 -2.46982952e-01  1.60072765e+00 -8.16008440e-02\n",
      " -2.90809428e-01  8.87391076e-01  3.36645476e-01  3.96564524e-01\n",
      " -9.57555982e-01 -1.01322935e+00 -6.41438022e-02  9.57394747e-01\n",
      " -1.12593069e+00  1.24656332e-01  3.67977372e-01  1.34335895e-01\n",
      " -9.60629660e-02 -4.13478438e-01 -1.45641324e-01  2.53957288e+00\n",
      " -1.76636817e+00 -5.77629151e-01 -7.70340027e-01  7.81119547e-01\n",
      " -1.27923039e+00  1.35181220e-01  6.46063025e-01  3.85633642e-01\n",
      "  1.25152122e+00  2.58226717e-01  2.88456761e-01 -5.75722578e-01\n",
      "  2.14503933e-01 -8.29962623e-01  7.48948084e-01  2.48550830e-02\n",
      " -2.97340592e-01  6.46393356e-01 -1.21304969e+00  5.94788582e-01\n",
      "  1.09877628e+00  1.67741479e+00 -5.77798801e-01 -6.57564961e-01\n",
      "  6.62320720e-02  1.26534359e+00  1.21458545e+00 -1.54306661e+00\n",
      "  3.72610767e-01 -8.27079428e-01 -1.21320886e+00 -1.04841807e+00\n",
      " -7.97674353e-01  1.87073893e+00  4.21420750e-01  2.47339033e-01\n",
      " -1.65718974e-01  1.18042833e+00 -1.60331571e-01  2.54895453e+00\n",
      " -1.37812098e+00  7.37841420e-01  3.14371895e-01  4.04505716e-01\n",
      " -1.65637061e+00 -6.06464117e-01 -9.64730073e-01  1.91167469e-01\n",
      " -8.62632552e-01  3.22402729e-01 -8.42519360e-01  1.33602264e+00\n",
      " -7.08730760e-01 -4.79510804e-01 -4.46633020e-01  1.06483067e-01\n",
      " -2.89281381e-02 -1.92335494e+00  6.07873695e-01  5.46922247e-01\n",
      "  8.05426756e-01 -5.07419773e-01  1.45547362e-02  5.97293142e-01\n",
      " -2.26940694e-01  8.28116042e-01  2.38260423e-02  1.70627259e+00\n",
      "  5.14821826e-01  5.45748976e-01  8.79402383e-01  2.47559320e-01\n",
      " -2.01303016e+00 -2.42120507e+00  9.69698713e-01 -2.02819937e-01\n",
      " -8.80672344e-01 -1.98288054e+00  1.30586385e+00  3.93876420e-02\n",
      " -2.31519723e+00  3.01387583e-01 -5.18946976e-01 -1.46283623e+00\n",
      " -1.95611371e-01  1.45997462e-01 -1.28763018e+00  9.91582086e-01\n",
      " -3.93478557e-01 -1.13352979e+00  7.10722780e-01  1.01548137e+00\n",
      " -5.56711136e-03 -1.98048321e-01  3.33488621e-01 -6.38475464e-01\n",
      "  5.26627634e-01  4.37288624e-01 -5.75242908e-01 -3.36000553e-02\n",
      " -2.67163347e-01  9.73541766e-01  1.39808704e+00  1.79276415e+00\n",
      " -6.79955852e-01  1.18452578e+00  1.68552305e+00 -5.29562349e-01\n",
      " -3.24199349e-01 -9.13835141e-01 -9.95426426e-01 -1.20222044e+00\n",
      "  2.51632660e+00  5.76214213e-01  1.91792027e-01  1.20073666e+00\n",
      "  1.76449699e+00  4.14532089e-02  2.30948386e-01 -2.66880286e+00\n",
      "  1.51596282e+00  8.06855937e-01 -1.57437696e-01 -1.93343717e-01\n",
      "  9.15966132e-01 -7.94492679e-01 -6.55364256e-01 -1.50224031e+00\n",
      "  9.94982716e-01  7.71972574e-01 -2.54499991e+00 -6.39240177e-01\n",
      "  1.86262199e+00  5.13766888e-01  9.05072983e-01 -3.39605812e-01]\n"
     ]
    },
    {
     "data": {
      "text/plain": [
       "<matplotlib.legend.Legend at 0x7f9399929430>"
      ]
     },
     "execution_count": 136,
     "metadata": {},
     "output_type": "execute_result"
    },
    {
     "data": {
      "image/png": "[encoded data removed]",
      "text/plain": [
       "<Figure size 432x288 with 1 Axes>"
      ]
     },
     "metadata": {
      "needs_background": "light"
     },
     "output_type": "display_data"
    }
   ],
   "source": [
    "import pandas as pd\n",
    "  \n",
    "# No of Data points\n",
    "N = 500\n",
    "  \n",
    "# initializing random values\n",
    "data = np.random.randn(N)\n",
    "\n",
    "print (data)\n",
    "  \n",
    "# getting data of the histogram\n",
    "count, bins_count = np.histogram(data, bins=10)\n",
    "  \n",
    "# finding the PDF of the histogram using count values\n",
    "pdf = count / sum(count)\n",
    "  \n",
    "# using numpy np.cumsum to calculate the CDF\n",
    "# We can also find using the PDF values by looping and adding\n",
    "cdf = np.cumsum(pdf)\n",
    "  \n",
    "# plotting PDF and CDF\n",
    "plt.plot(bins_count[1:], pdf, color=\"red\", label=\"PDF\")\n",
    "plt.plot(bins_count[1:], cdf, label=\"CDF\")\n",
    "plt.legend()"
   ]
  },
  {
   "cell_type": "code",
   "execution_count": null,
   "metadata": {},
   "outputs": [],
   "source": []
  }
 ],
 "metadata": {
  "kernelspec": {
   "display_name": "corexEnv",
   "language": "python",
   "name": "corexenv"
  },
  "language_info": {
   "codemirror_mode": {
    "name": "ipython",
    "version": 3
   },
   "file_extension": ".py",
   "mimetype": "text/x-python",
   "name": "python",
   "nbconvert_exporter": "python",
   "pygments_lexer": "ipython3",
   "version": "3.8.5"
  },
  "metadata": {
   "interpreter": {
    "hash": "767d51c1340bd893661ea55ea3124f6de3c7a262a8b4abca0554b478b1e2ff90"
   }
  }
 },
 "nbformat": 4,
 "nbformat_minor": 2
}
