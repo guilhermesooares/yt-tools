{
 "cells": [
  {
   "cell_type": "markdown",
   "metadata": {},
   "source": [
    "# Topic modeling with (CorEx)"
   ]
  },
  {
   "cell_type": "markdown",
   "metadata": {},
   "source": [
    "## Data handling"
   ]
  },
  {
   "cell_type": "markdown",
   "metadata": {},
   "source": [
    "### Load and clean subtitles text"
   ]
  },
  {
   "cell_type": "code",
   "execution_count": 1,
   "metadata": {},
   "outputs": [],
   "source": [
    "import glob\n",
    "import json\n",
    "import text\n",
    "\n",
    "files = glob.glob(\"../data/tratamento-precoce-top-200/subtitles-new/*\")\n",
    "\n",
    "subtitles = []\n",
    "\n",
    "for f in files[:300]:\n",
    "    with open(f) as file:\n",
    "        subtitle = json.loads(file.read())\n",
    "        subtitles.append(' '.join([str(text.clean(x[\"text\"])) for x in subtitle]))"
   ]
  },
  {
   "cell_type": "markdown",
   "metadata": {},
   "source": [
    "### Subtitle example"
   ]
  },
  {
   "cell_type": "code",
   "execution_count": 2,
   "metadata": {
    "scrolled": true
   },
   "outputs": [
    {
     "name": "stdout",
     "output_type": "stream",
     "text": [
      "assunt aqu vou vir assunt porqu audienc gost diss decadenc ness program vai busc temp assunt vir vam la ont ministr saud eduard pajuel mud tom sobr trat precoc contr coronaviru diss mudanc discurs mudanc tom pass inclusiv assum ministeri saud prim orientaca ofic sobr tal trat precoc hav ali uso medic hidroxicloroquin ver mectin enfim agor fal nao verdad nunc fal trat precoc diz sobr atend precoc vam ver senh fal atend precoc nao cit cloroquin govern vai segu nao fal senh nao voc fal nao fal senh vam ver teri nenhum vez nao so nao ouv fal nad diss atend precoc nao ouv fal nenhum remedi nao enta porqu diz to fal nao pergunt senh ministeri to ouv desculp nao produz questa senh fal atend precoc outr cole senh fal cloroquin nao troc maquin govern feder senh senh nunc viu nunc viu receit diz coloc pesso tom remedi nunc nao aceit posica enta palavr padro fic incomod ali pergunt report porqu fal enta sobr atend precoc nao sobr trat pra quest enta senh fal cloroquin outr medic fal nunc fal sobr so internet nao perdo cham ovari cham la sab fac lu algum moment fal sobr trat precoc peg liv particip presid jair bolsonar ond menin saud fal sobr trat precoc presid inclusiv recom ali algum medic vam ver trat precoc observaca toc voc ach fal sobr aqu fundament nao exist outr said sena diagnostic mo medic rap possi inici trat precoc rap possi salv vid evit pesso pior ir uti incentiv col maquin hidroxicloroquin anitt chin exist ha dec pessoal verm comum aceit bast comum paul trat atend mand consult medic atend porqu nao tav doi cient joel pinh fonsec atend trat ca terri extr mud ministr lad presid chef presid vai vend caix cloroquin ser cont ministr apoi aqu anel ministr pass radic compr oferec cloroquin ali sent lad gent precios part obvi govern feder presid republ ministeri saud empurr goel abaix populaca tal trat precoc envolv mont remedi cloroquin ver mectin azitromicin nao sei qual outr nenhum minim comprov ate diz acompanh ach import gent diss mil questa poli questa cientif fic otim gent qu remedi eficac la inici ano pass assim algum evidenc promis uso cloroquin estud subsequ feit feit enfraquec evidenc hoj dia parec cloroquin fat nao ter feit nenhum talv aind algum chanc ivermectin tamb algum result prelimin pod ser colh outr dia cidad itaj sant catarin adot trat precoc assim peg muit cidad favor plan govern feder peg trat precoc grand med contr coronaviru grand cidad sant catarin mai tax letal enta nao relaca caus efeit said gol parec nom orig nao esta desenvolv senh us convers tecn anvis inclusiv ont la jorn manh fal aind estagi prelimin certificaca assim tamb tod mund pesso bom vier funcion vai ser arm importantiss muit gent peg ant vacin sor excel nao contr remedi nenhum govern empurr gast dinh gast centen milho manau precis oxigeni bolsonar mand relaca bolsonar mand cloroquin alm salv sab enta assim govern empurr goel abaix trat exat ter comprovaca cientif tal trat precoc nao ver bolsonar vai ser nao precis preocup coronaviru aqu homeopat aqu voc tom fic tud bem crim nov bom elimin faz tav zo vou faz carg ate hoj acontec mandett nelson tal tir nao aceit assin bom vam la porqu nao evidenc padro ate hoj porqu aceit nao deix engan malic praz nao ok nunc calc lend complet fals polem govern tent enfi goel abaix brasil indic atend precoc medic pod recomend prescrev algum tip remedi poss aind nao prov cientif cabal poss ajud recuperaca paci prim moment sao vari remedi azitromicin bilhet anitt cloroquin nao exat eficienc comprov fatal fatal nao cabal pod event ajud inclusiv ajud outr doenc adjac sao provoc propr convit pneumon deput janain pascho fal aqu ness program melhor trat bio anticoagul dev trat profila dad medic algum form ajud efeit colater leo agor voc quer criminal criminal possibil trat precoc event pod ajud melh doenc diz crimin crimin voc tax crimin qualqu tip percepca ajud desenh post medic dev medic pod acert melhor efeit colater propr conviv nao ent polent quer tent lembr vacin ate vacin ano aprov ano tod vacin efeit colater norueg dezen idos esta suspeit ser bonit car fal assim ah car sao verd fic fic comov agor convit tamb afet sobretud velh comunidad tud feit nom combat oi ness ano pass aind test porqu cienc volt diz conjunt pot test long temp doenc nov nao fal uma cois nao so voc unic cois deix indign crimin voc indic trat preven sena efeit colater grav dess trat tud indic nao ha qualqu problem tent ajud pesso quer melhor context motor doent pod ser crimin vou deix clar cois qualqu govern aplic vacin ant aprovaca anvis govern medic est pres nest moment enta nao cois voc fac assim form lev nao nao ter later relev joel prim cobr tom coloc perd aqu nao bolsonar to medi abr inscrico pa calm deix poss fal bolsonar tom atropin fez exam cardiac just acompanh possi efeit colater sao propri bolsonar sab fez exam control efeit colater outr ning qu proib remedi medic particul nov test nao delic medic ach aceit total liberdad aqu tamb nao gent faz aqu enta delic apo termin gent fal aqu remedi torn protocol univers lev adiant promov ministeri vai fic mold govern podera oraca envi tamb conseg produz distribu recom abr long exist estoqu grand cloroquin nao apost cor opin viu nao promet nao func mand dos brasil gent estoqu gent desgast milho real distribu crim respons form pergunt voc voc recomend trat oi adriel adriel so minut agor paul nao ach efeit colater voc fal nao gent sab apur aind ter acompanh medic escrev hoj tent nao tent explic medic atend recomend cois assim fal exat nao pod ser poli govern pod ser pod ser prior distribu remedi nao comprovaca cientif ajud vi saud junt presid republ reit procur medic procur post saud tom remedi pod ser afer prescrit medic voc esta deturp tod questa nao esta distribu man goel abaix esta dand oportun recomendaca atrav auxili medic prescrica medic tom alg dos absolut nao ger efeit colater grav pesso direit trat rest man fiz previsa medic veterinari guanab sab mostr gent raza ate nelson tal mandett recus assin embaix dess protocol univers demit recomendaca azuel top vez curv mostr ministr subservi desej presid republ naquel epoc bolsonar aind oferec cloroquin emm ach real cur milagr irma voc lembr nao nad daquil agor esta med mud discurs ant cloroquin coloq cloroquin agor voc tir palavr cloroquin boc ministr vas remedi lut porqu sab bem fal nao dev enta tent agor der nao trat precoc nao sab nao pod ser trat ir medic recomend faz nao sab hor recomendaca recomendaca busc medic log prim sintom ja recomendaca epoc mandett assim nao nao nao fal nao nao mand prim sintom pior prim sintom mand ped fic cas ach fal procur medic fal val nao prim sintom voc nao pass nad so algum cas sao doenc troc medic nao ir hospit faz vide medicin fal virtual voc nao espalh carol brinc dess jeit igual bol la alt pedr perif fal assim to fal recomendaca err pes cabec hor falt agu sintom to faz prim sintom prim sintom mand fic cas pergunt porqu nao to respond car uma recomendaco boc recomendaca nao crimin nao recomendaca ach pod ser difer paci procur medic luz prim sintom pod ter chanc mai recus nao porqu vai folg coloq uso nov caus nao porqu vai pod faz chav la moment nao vai pod entend vai compromiss vai pod faz exam sang entend vam faz so deix bem clar mand nao recomend vam cham vam cham mand imovel ja fal diss abr gent sec\n"
     ]
    }
   ],
   "source": [
    "print(subtitles[0])"
   ]
  },
  {
   "cell_type": "markdown",
   "metadata": {},
   "source": [
    "## CorEx topic modeling"
   ]
  },
  {
   "cell_type": "code",
   "execution_count": 3,
   "metadata": {},
   "outputs": [],
   "source": [
    "import numpy as np\n",
    "from sklearn.feature_extraction.text import CountVectorizer"
   ]
  },
  {
   "cell_type": "code",
   "execution_count": 4,
   "metadata": {},
   "outputs": [],
   "source": [
    "vectorizer = CountVectorizer(binary=True)\n",
    "wordCount = vectorizer.fit_transform(subtitles)"
   ]
  },
  {
   "cell_type": "code",
   "execution_count": 5,
   "metadata": {},
   "outputs": [
    {
     "data": {
      "text/plain": [
       "(300, 12592)"
      ]
     },
     "execution_count": 5,
     "metadata": {},
     "output_type": "execute_result"
    }
   ],
   "source": [
    "# Get words that label the columns (needed to extract readable topics and make anchoring easier)\n",
    "words = list(np.asarray(vectorizer.get_feature_names()))\n",
    "\n",
    "wordCount.shape # n_docs x m_words"
   ]
  },
  {
   "cell_type": "markdown",
   "metadata": {},
   "source": [
    "### Train the CorEx topic"
   ]
  },
  {
   "cell_type": "code",
   "execution_count": 6,
   "metadata": {
    "tags": []
   },
   "outputs": [],
   "source": [
    "from corextopic import corextopic as ct\n",
    "NUM_TOPICS = 9\n",
    "\n",
    "topic_model = ct.Corex(n_hidden=NUM_TOPICS, words=words, max_iter=200, docs= files, verbose=False, seed=1)\n",
    "topic_model.fit(wordCount, words=words);"
   ]
  },
  {
   "cell_type": "markdown",
   "metadata": {},
   "source": [
    "### Print all topics from the CorEx topic model"
   ]
  },
  {
   "cell_type": "code",
   "execution_count": 7,
   "metadata": {},
   "outputs": [
    {
     "name": "stdout",
     "output_type": "stream",
     "text": [
      "0: lad, ir, naquel, fez, fac, car, gost, mand, parec, rest\n",
      "1: interess, and, atr, tao, talv, ali, tant, celul, possi, mim\n",
      "2: cri, serv, base, pront, vem, clin, experienc, pesquis, escolh, bast\n",
      "3: conhec, mecan, encontr, amig, med, situaca, intens, sup, dra, sab\n",
      "4: verdad, ha, part, inclusiv, convid, cienc, ont, prevenca, aca, us\n",
      "5: associ, apresent, signif, superi, laboratori, demonstr, cobr, benefici, compar, reconhec\n",
      "6: pur, sinc, vaz, setembr, indi, invert, avaliaco, comparaca, dezoit, fabr\n",
      "7: helsinqu, paraib, ja, ama, batalh, precoc, dezenov, caco, turqu, cord\n",
      "8: disfunca, recorr, sex, acentu, ejaculaca, relaco, peix, simulaca, solidariedad, orgasm\n"
     ]
    }
   ],
   "source": [
    "topics = topic_model.get_topics()\n",
    "for n,topic in enumerate(topics):\n",
    "    topic_words,_,_ = zip(*topic)\n",
    "    print('{}: '.format(n) + ', '.join(topic_words))"
   ]
  },
  {
   "cell_type": "markdown",
   "metadata": {},
   "source": [
    "### Print top 10 documents for each topic"
   ]
  },
  {
   "cell_type": "code",
   "execution_count": 8,
   "metadata": {},
   "outputs": [
    {
     "name": "stdout",
     "output_type": "stream",
     "text": [
      "0: YsK2bT68aMs, vK8p7O_JHJI, Rh2MfjOXJJo, os7rasQFdlk, i0zX9o9enD0, 6ipMT1gaj5A, 3Rso-Vxrc0Y, -ekSeKLRpiM, l2uaJJVJOvk, Mwc3_xam1_s, gtOcEDGYAkQ, dNwP6McSxYU, aWX-HFqjxWQ, MUVkYT3psz0, HtA93BZBXAs, 50ZJXm_xRMg, 7OxXv-OSneM, L2fqpq-1eTQ, MrBq5vcsfMg, re_5e4bnVw4, Ut8dfo8iYM4, eAqvjqwQj5k, vR7wJYnk2r4, ZrLk9-CoS28, BHKy1HuZmNc, yehHFVLxEbg, -OwXZGH0W6A, p-amZCOXKgo, 2O246aKnGFY, e1Z9Qx9XqBo, Qf2Ri9YuRg4, 04_wDUkIE0k, qYRfLA6gnVo, ZnEpyvswaEA, mygyAhJjhws, ZxH2GOuConU, RMEzSNi8Zeo, iNJ1F9Iq9To, RBoIY5zjmVM, nKoxeTlJtWg, rV-G3yVNXVQ, M6TPxevpY5I, tDycaPTUGR0, hjTzs4HT5b8, 277cgQD1Q1Q, GRcka5x_0hE, jexdogpfCB0, lbAgqXiXMSc, g4rAXK7Zeow, G7vpEbDSRz8, xRjIktVTBlg, zMnwnB8-ajg, 3W9xsg8TaZw, ZzpuJmyrs4c, hdlYkORhNtY, ODJ5v-bnFVE, umLkrQRn988, s8chHSwf9Lo, 8WTAXcI0K1M, 4r-bgRRbfrs, bqoMDrk6m1c, hVBS2Mx_oag, zRdQsIGyCcg, sHXVxIjQC1U, fS-qB74rwOs, HgVNnxl56w8, OfMD2NubGT0\n",
      "1: vK8p7O_JHJI, Rh2MfjOXJJo, os7rasQFdlk, i0zX9o9enD0, udwq1w1iJ_8, 6ipMT1gaj5A, 3Rso-Vxrc0Y, -ekSeKLRpiM, l2uaJJVJOvk, Mwc3_xam1_s, gtOcEDGYAkQ, dNwP6McSxYU, aWX-HFqjxWQ, MUVkYT3psz0, 8CW_klA4Iz8, HtA93BZBXAs, h0deS1KW_RM, 7OxXv-OSneM, L2fqpq-1eTQ, dJENCtV2omU, MrBq5vcsfMg, Ut8dfo8iYM4, eAqvjqwQj5k, vR7wJYnk2r4, ZrLk9-CoS28, Tv8rkgrIy_Y, BHKy1HuZmNc, yehHFVLxEbg, -OwXZGH0W6A, p-amZCOXKgo, 2O246aKnGFY, pUsT3EbobS4, 2I8-PBR2Kd0, e1Z9Qx9XqBo, Qf2Ri9YuRg4, 04_wDUkIE0k, qYRfLA6gnVo, ZnEpyvswaEA, mygyAhJjhws, ZxH2GOuConU, wTMjJJEKzkE, RMEzSNi8Zeo, iNJ1F9Iq9To, RBoIY5zjmVM, nKoxeTlJtWg, rV-G3yVNXVQ, M6TPxevpY5I, tDycaPTUGR0, ISKGdqtpkc0, h3yK4Jna7BU, hjTzs4HT5b8, 277cgQD1Q1Q, GRcka5x_0hE, jexdogpfCB0, lbAgqXiXMSc, u1f6pHZsRSk, KR1ThJvT0Bs, g4rAXK7Zeow, xRjIktVTBlg, zMnwnB8-ajg, 3W9xsg8TaZw, ZzpuJmyrs4c, hdlYkORhNtY, ODJ5v-bnFVE, umLkrQRn988, s8chHSwf9Lo, 8WTAXcI0K1M, UOYLux7Fpyw, P4EW3GBlaEE, BygsaRW_-Tg, 4r-bgRRbfrs, bqoMDrk6m1c, sHXVxIjQC1U, -Wp4fDNgbB8, fS-qB74rwOs\n",
      "2: Rh2MfjOXJJo, os7rasQFdlk, i0zX9o9enD0, FYAtWr9q2ho, SdC8Cl6qXA8, 6ipMT1gaj5A, 3Rso-Vxrc0Y, -ekSeKLRpiM, l2uaJJVJOvk, SB9fn05bzBw, gtOcEDGYAkQ, dNwP6McSxYU, kjkY-FRngbE, wJxDrUQeXBU, -QOEInWNL5M, aWX-HFqjxWQ, MUVkYT3psz0, HtA93BZBXAs, 2-yyW_aY474, 50ZJXm_xRMg, 7OxXv-OSneM, L2fqpq-1eTQ, 5OzQ0EIK0GI, zFL4Z_IGcIQ, BkPPXKnRfKU, dJENCtV2omU, EtiX0M6EIPU, MrBq5vcsfMg, re_5e4bnVw4, Ut8dfo8iYM4, eAqvjqwQj5k, vR7wJYnk2r4, ZrLk9-CoS28, i7AS2fq8B1w, 2_22Y3_WXqc, BHKy1HuZmNc, TXMEHSlcaTo, yehHFVLxEbg, Kn13xAJW1Vg, p-amZCOXKgo, 2I8-PBR2Kd0, e1Z9Qx9XqBo, 04_wDUkIE0k, ZnEpyvswaEA, ZxH2GOuConU, wTMjJJEKzkE, RMEzSNi8Zeo, iNJ1F9Iq9To, RBoIY5zjmVM, nKoxeTlJtWg, rV-G3yVNXVQ, M6TPxevpY5I, tDycaPTUGR0, ISKGdqtpkc0, h3yK4Jna7BU, hjTzs4HT5b8, 277cgQD1Q1Q, GRcka5x_0hE, jexdogpfCB0, lbAgqXiXMSc, u1f6pHZsRSk, g4rAXK7Zeow, xRjIktVTBlg, zMnwnB8-ajg, 3W9xsg8TaZw, ZzpuJmyrs4c, hdlYkORhNtY, ODJ5v-bnFVE, umLkrQRn988, s8chHSwf9Lo, 8WTAXcI0K1M, UOYLux7Fpyw, BygsaRW_-Tg, 4r-bgRRbfrs, bqoMDrk6m1c, -Cxei0gjQqg, tgCi0gDL_WM, sHXVxIjQC1U, -Wp4fDNgbB8, fS-qB74rwOs, HgVNnxl56w8\n",
      "3: Rh2MfjOXJJo, os7rasQFdlk, i0zX9o9enD0, ZDz40O76Biw, nRhan1HciRw, 6ipMT1gaj5A, 3Rso-Vxrc0Y, l2uaJJVJOvk, Mwc3_xam1_s, gtOcEDGYAkQ, -QOEInWNL5M, aWX-HFqjxWQ, fu77THUuBk4, MUVkYT3psz0, 8CW_klA4Iz8, HtA93BZBXAs, 50ZJXm_xRMg, 7OxXv-OSneM, gO9P387kxaU, fdKyuAOMENc, dJENCtV2omU, dS5_46XPzt8, 6pyXrrVVEAc, eSvApB1KsVk, MrBq5vcsfMg, re_5e4bnVw4, QnThbkX6Beg, eAqvjqwQj5k, vR7wJYnk2r4, ZrLk9-CoS28, o_g7zbjTBIM, BHKy1HuZmNc, yehHFVLxEbg, -OwXZGH0W6A, p-amZCOXKgo, pUsT3EbobS4, Oja7EwWRamQ, e1Z9Qx9XqBo, Qf2Ri9YuRg4, 04_wDUkIE0k, ZnEpyvswaEA, mygyAhJjhws, ZxH2GOuConU, HX71y2HiNgU, RMEzSNi8Zeo, iNJ1F9Iq9To, RBoIY5zjmVM, rV-G3yVNXVQ, ARojukHpZgY, M6TPxevpY5I, tDycaPTUGR0, mn9TptfcM6U, ISKGdqtpkc0, h3yK4Jna7BU, hjTzs4HT5b8, iltp3RH6_nI, 277cgQD1Q1Q, GRcka5x_0hE, jexdogpfCB0, lbAgqXiXMSc, g4rAXK7Zeow, NVV3LjDVeNY, VBV13ia-Huo, xRjIktVTBlg, zMnwnB8-ajg, BJaw0KqgVPM, 3W9xsg8TaZw, ibjaynwPYWk, ZzpuJmyrs4c, hdlYkORhNtY, ODJ5v-bnFVE, IaJ3fb4DNw8, 8WTAXcI0K1M, MVilXYi7Pd4, 4r-bgRRbfrs, bqoMDrk6m1c, -Cxei0gjQqg, JYGBhn-7tTc, ESjO-QeSS2Y, zRdQsIGyCcg, sHXVxIjQC1U, fS-qB74rwOs\n",
      "4: YsK2bT68aMs, vK8p7O_JHJI, Rh2MfjOXJJo, os7rasQFdlk, i0zX9o9enD0, 3Rso-Vxrc0Y, -ekSeKLRpiM, l2uaJJVJOvk, Mwc3_xam1_s, gtOcEDGYAkQ, dNwP6McSxYU, aWX-HFqjxWQ, ZZYIls15igQ, fu77THUuBk4, MUVkYT3psz0, HtA93BZBXAs, C1x0gcSiuq0, 50ZJXm_xRMg, gmAOYdco2xE, l91QFDpmKGo, EIYls5AjjKQ, _lW1mNIuUnA, 7OxXv-OSneM, LgHDQlsICVw, L2fqpq-1eTQ, 3ibJcA7YQU8, ZXEohKGFmCo, dJENCtV2omU, iU1rZ9ZRjmI, eSvApB1KsVk, EdCV3QyJhVM, MrBq5vcsfMg, QnThbkX6Beg, eAqvjqwQj5k, vR7wJYnk2r4, 1eq02bMdOug, ZrLk9-CoS28, dQ9ifypWVDY, i7AS2fq8B1w, BHKy1HuZmNc, yehHFVLxEbg, -OwXZGH0W6A, p-amZCOXKgo, 2O246aKnGFY, pUsT3EbobS4, e1Z9Qx9XqBo, Qf2Ri9YuRg4, 04_wDUkIE0k, qYRfLA6gnVo, ZnEpyvswaEA, mygyAhJjhws, ZxH2GOuConU, wTMjJJEKzkE, iNJ1F9Iq9To, RBoIY5zjmVM, nMxerHvzEsM, nKoxeTlJtWg, rV-G3yVNXVQ, ARojukHpZgY, oEazrUSyS8Y, M6TPxevpY5I, tDycaPTUGR0, h3yK4Jna7BU, hjTzs4HT5b8, iltp3RH6_nI, 277cgQD1Q1Q, GRcka5x_0hE, jexdogpfCB0, lbAgqXiXMSc, u1f6pHZsRSk, KR1ThJvT0Bs, g4rAXK7Zeow, xRjIktVTBlg, zMnwnB8-ajg, BJaw0KqgVPM, ZzpuJmyrs4c, hdlYkORhNtY, ODJ5v-bnFVE, s8chHSwf9Lo, 8WTAXcI0K1M, UOYLux7Fpyw, 4r-bgRRbfrs, bqoMDrk6m1c, -Cxei0gjQqg, hVBS2Mx_oag, U-IsNg1r_BI, sYZN5ZZ7jEk, zRdQsIGyCcg, sHXVxIjQC1U, -Wp4fDNgbB8, fS-qB74rwOs, HgVNnxl56w8\n",
      "5: 1t2KPBri4ho, os7rasQFdlk, i0zX9o9enD0, 6ipMT1gaj5A, 3Rso-Vxrc0Y, -ekSeKLRpiM, l2uaJJVJOvk, Mwc3_xam1_s, gtOcEDGYAkQ, xHCj_NNKS_s, -QOEInWNL5M, aWX-HFqjxWQ, MUVkYT3psz0, vCrtPyxB1tM, QC5J-YoBTEQ, VWHGfH369UA, _lW1mNIuUnA, L2fqpq-1eTQ, dJENCtV2omU, eSvApB1KsVk, MrBq5vcsfMg, umhFOHDLkMs, re_5e4bnVw4, QnThbkX6Beg, eAqvjqwQj5k, ZrLk9-CoS28, i7AS2fq8B1w, Tv8rkgrIy_Y, BHKy1HuZmNc, yehHFVLxEbg, p-amZCOXKgo, 2O246aKnGFY, 2I8-PBR2Kd0, e1Z9Qx9XqBo, 04_wDUkIE0k, ZnEpyvswaEA, ZxH2GOuConU, wTMjJJEKzkE, iNJ1F9Iq9To, RBoIY5zjmVM, rV-G3yVNXVQ, M6TPxevpY5I, tDycaPTUGR0, ISKGdqtpkc0, hjTzs4HT5b8, iltp3RH6_nI, 277cgQD1Q1Q, GRcka5x_0hE, lbAgqXiXMSc, J7c5dz2H6Us, u1f6pHZsRSk, g4rAXK7Zeow, G7vpEbDSRz8, xRjIktVTBlg, BJaw0KqgVPM, 3W9xsg8TaZw, ZzpuJmyrs4c, hdlYkORhNtY, ODJ5v-bnFVE, s8chHSwf9Lo, 8WTAXcI0K1M, UOYLux7Fpyw, BygsaRW_-Tg, bqoMDrk6m1c, MQesxF2DRq8, JYGBhn-7tTc, zRdQsIGyCcg, sHXVxIjQC1U, fS-qB74rwOs\n",
      "6: 1t2KPBri4ho, P0tSiLMdz50, i0zX9o9enD0, udwq1w1iJ_8, 6ipMT1gaj5A, 3Rso-Vxrc0Y, HGLEAiVAiGg, -ekSeKLRpiM, l2uaJJVJOvk, gtOcEDGYAkQ, U_lF3yvDPh8, MUVkYT3psz0, 8CW_klA4Iz8, HtA93BZBXAs, pHnENkF2hEU, C1x0gcSiuq0, QC5J-YoBTEQ, 50ZJXm_xRMg, y9EDrOpOl0g, 9tD2ZQX8cPU, 7OxXv-OSneM, gO9P387kxaU, L2fqpq-1eTQ, XiCGR1DriuM, BkPPXKnRfKU, dJENCtV2omU, dS5_46XPzt8, KqTsD5Cbl0w, MrBq5vcsfMg, re_5e4bnVw4, yn3tdO4e08g, Ut8dfo8iYM4, eAqvjqwQj5k, vR7wJYnk2r4, ZrLk9-CoS28, o_g7zbjTBIM, Tv8rkgrIy_Y, GjNPp08Y-6s, BHKy1HuZmNc, LRFeXR8Jjdw, yehHFVLxEbg, -OwXZGH0W6A, LOd7pEyp_KM, vfA59aP_DW4, 2I8-PBR2Kd0, Oja7EwWRamQ, qYRfLA6gnVo, ZnEpyvswaEA, ZxH2GOuConU, wTMjJJEKzkE, OvVoGn4OGaI, RMEzSNi8Zeo, iNJ1F9Iq9To, kYJ7E67iXVk, RBoIY5zjmVM, nMxerHvzEsM, nKoxeTlJtWg, ARojukHpZgY, Q2UAZxzLoNU, cNjUSoCUHWA, ISKGdqtpkc0, hjTzs4HT5b8, 277cgQD1Q1Q, DEDNnhWE0rw, 8Iac5Oml3_E, lbAgqXiXMSc, zMnwnB8-ajg, 3W9xsg8TaZw, ZzpuJmyrs4c, hdlYkORhNtY, ODJ5v-bnFVE, umLkrQRn988, Byz-TnqBWJI, 86YALZmrfaE, s8chHSwf9Lo, 4hGVLLoMWtc, UOYLux7Fpyw, P4EW3GBlaEE, 5lhivaNpod0, 4r-bgRRbfrs, hVBS2Mx_oag, seAGq-IO3_U, oGRtnIh8gNo\n",
      "7: vK8p7O_JHJI, os7rasQFdlk, i0zX9o9enD0, 1vWra5mTyOg, ZDz40O76Biw, 3Rso-Vxrc0Y, s8BJXSDidNU, -ekSeKLRpiM, Mwc3_xam1_s, W9uJyRGDiWQ, U7Ux0tLbS5w, pscfJLbNs3w, dNwP6McSxYU, aWX-HFqjxWQ, ZZYIls15igQ, fu77THUuBk4, MUVkYT3psz0, HtA93BZBXAs, C1x0gcSiuq0, YFbcE6l6vt8, FGxrM7tz2uE, EIYls5AjjKQ, 9tD2ZQX8cPU, 7OxXv-OSneM, gK_HEoSLbhs, 6Pa2_qJdLiQ, L2fqpq-1eTQ, ZXEohKGFmCo, fdKyuAOMENc, A-enasyr5AI, dS5_46XPzt8, 6pyXrrVVEAc, eSvApB1KsVk, EdCV3QyJhVM, DNjY3VBFWfg, Ut8dfo8iYM4, i7AS2fq8B1w, 2_22Y3_WXqc, yehHFVLxEbg, -OwXZGH0W6A, LOd7pEyp_KM, p-amZCOXKgo, pUsT3EbobS4, Oja7EwWRamQ, ErMK-3J941k, mygyAhJjhws, dANXZk42pv0, HX71y2HiNgU, 5oFAPWz61-Q, iNJ1F9Iq9To, rV-G3yVNXVQ, ARojukHpZgY, oEazrUSyS8Y, tDycaPTUGR0, lt_XKwBjpDU, _BkAIiXz2sw, mn9TptfcM6U, ISKGdqtpkc0, h3yK4Jna7BU, hjTzs4HT5b8, cM1U335Wgb0, bqOGi4oIaB8, DEDNnhWE0rw, lbAgqXiXMSc, u1f6pHZsRSk, g4rAXK7Zeow, xRjIktVTBlg, zMnwnB8-ajg, BJaw0KqgVPM, 3W9xsg8TaZw, hdlYkORhNtY, ODJ5v-bnFVE, Byz-TnqBWJI, IaJ3fb4DNw8, s8chHSwf9Lo, 8WTAXcI0K1M, 2u7PDMB0lOs, BygsaRW_-Tg, 5lhivaNpod0, 4r-bgRRbfrs, bqoMDrk6m1c, seAGq-IO3_U, L8eT4r7XQyM, Gp4AkNhNXJs, -Wp4fDNgbB8, fS-qB74rwOs\n",
      "8: ADVnTHCybC8, 1t2KPBri4ho, vK8p7O_JHJI, udwq1w1iJ_8, ZDz40O76Biw, p-0XzXoYbqc, f6uZI9kb7o0, nwl0tUVikQQ, SB9fn05bzBw, W9uJyRGDiWQ, Blwgn4qE088, p6w5fbKUjIM, GKU_QNj_k3Y, xHCj_NNKS_s, aWX-HFqjxWQ, ZZYIls15igQ, e7mEWnH8jeM, fu77THUuBk4, YVXVqVCRU0o, HtA93BZBXAs, vCrtPyxB1tM, _IWNC-9FN3Q, cQkihVMzRx0, 50ZJXm_xRMg, gmAOYdco2xE, _lW1mNIuUnA, SnhFIHkx5IA, 7OxXv-OSneM, gK_HEoSLbhs, 6Pa2_qJdLiQ, KAuzRP9kXHE, U_p5eJnA5T0, dJENCtV2omU, YvaCV78m6Rg, eSvApB1KsVk, ASIEk07ViJ8, 0BL3pPGFrP8, umhFOHDLkMs, re_5e4bnVw4, mnMYWpJ2UYk, eAqvjqwQj5k, vR7wJYnk2r4, 1eq02bMdOug, ZrLk9-CoS28, 2_22Y3_WXqc, yehHFVLxEbg, vfA59aP_DW4, p-amZCOXKgo, pUsT3EbobS4, qYRfLA6gnVo, dANXZk42pv0, FVUeg69oecU, OvVoGn4OGaI, ztyWwZdtjRk, iNJ1F9Iq9To, e6kHpDzI6tU, RBoIY5zjmVM, VhWOfCTCgCk, M6TPxevpY5I, 44rbpeuZI5Y, cNjUSoCUHWA, mn9TptfcM6U, mmhk9fNdCos, C-W9n749M_E, hjTzs4HT5b8, LRuEDd6ZifI, 277cgQD1Q1Q, jexdogpfCB0, lbAgqXiXMSc, KR1ThJvT0Bs, g4rAXK7Zeow, jceNjYrn_sA, xRjIktVTBlg, zMnwnB8-ajg, BJaw0KqgVPM, mxKgyRe8E1M, ibjaynwPYWk, ZzpuJmyrs4c, WyIWajKzErQ, hdlYkORhNtY, umLkrQRn988, XRLxkscy5N8, s8chHSwf9Lo, oDniU3xIpaw, BygsaRW_-Tg, MVilXYi7Pd4, BH-qbHuOY9I, w3HpJMviTk4, hVBS2Mx_oag, EjYa_O4Ls2M, MQesxF2DRq8, juZO0G3BbP4, sYZN5ZZ7jEk, 4llQ_4d2HhU, zRdQsIGyCcg, oGRtnIh8gNo, L8eT4r7XQyM, sHXVxIjQC1U, fS-qB74rwOs, OfMD2NubGT0\n"
     ]
    }
   ],
   "source": [
    "for n,topic in enumerate(topics):\n",
    "    topic_documents = []\n",
    "    for docId, document in enumerate(topic_model.labels):\n",
    "        if document[n]:\n",
    "            videoId = files[docId].split(\"/\")[-1]\n",
    "            topic_documents.append(videoId)\n",
    "    print('{}: '.format(n) + ', '.join(topic_documents))"
   ]
  },
  {
   "cell_type": "code",
   "execution_count": 9,
   "metadata": {},
   "outputs": [
    {
     "name": "stdout",
     "output_type": "stream",
     "text": [
      "[0 0 0 ... 0 0 6]\n",
      "(12592,)\n"
     ]
    }
   ],
   "source": [
    "# If we need to directly access the topic assignments for each word, they can be accessed through cluster.\n",
    "print(topic_model.clusters)\n",
    "print(topic_model.clusters.shape) # m_words"
   ]
  },
  {
   "cell_type": "code",
   "execution_count": 10,
   "metadata": {},
   "outputs": [
    {
     "name": "stdout",
     "output_type": "stream",
     "text": [
      "(300, 9)\n"
     ]
    }
   ],
   "source": [
    "print(topic_model.p_y_given_x.shape) # n_docs x k_topics"
   ]
  },
  {
   "cell_type": "code",
   "execution_count": 11,
   "metadata": {},
   "outputs": [
    {
     "name": "stdout",
     "output_type": "stream",
     "text": [
      "(300, 9)\n"
     ]
    }
   ],
   "source": [
    "print(topic_model.labels.shape) # n_docs x k_topics"
   ]
  },
  {
   "cell_type": "code",
   "execution_count": 12,
   "metadata": {},
   "outputs": [
    {
     "data": {
      "image/png": "[encoded data removed]",
      "text/plain": [
       "<Figure size 720x360 with 1 Axes>"
      ]
     },
     "metadata": {
      "needs_background": "light"
     },
     "output_type": "display_data"
    }
   ],
   "source": [
    "import matplotlib.pyplot as plt\n",
    "\n",
    "plt.figure(figsize=(10,5))\n",
    "plt.bar(range(topic_model.tcs.shape[0]), topic_model.tcs, color='#4e79a7', width=0.5)\n",
    "plt.xlabel('Topic', fontsize=16)\n",
    "plt.ylabel('Total Correlation (nats)', fontsize=16);"
   ]
  },
  {
   "cell_type": "code",
   "execution_count": 13,
   "metadata": {},
   "outputs": [
    {
     "data": {
      "text/plain": [
       "279.3445321049061"
      ]
     },
     "execution_count": 13,
     "metadata": {},
     "output_type": "execute_result"
    }
   ],
   "source": [
    "topic_model.tc"
   ]
  }
 ],
 "metadata": {
  "kernelspec": {
   "display_name": "corexEnv",
   "language": "python",
   "name": "corexenv"
  },
  "language_info": {
   "codemirror_mode": {
    "name": "ipython",
    "version": 3
   },
   "file_extension": ".py",
   "mimetype": "text/x-python",
   "name": "python",
   "nbconvert_exporter": "python",
   "pygments_lexer": "ipython3",
   "version": "3.8.5"
  },
  "metadata": {
   "interpreter": {
    "hash": "767d51c1340bd893661ea55ea3124f6de3c7a262a8b4abca0554b478b1e2ff90"
   }
  }
 },
 "nbformat": 4,
 "nbformat_minor": 2
}
